{
 "cells": [
  {
   "cell_type": "code",
   "execution_count": 62,
   "metadata": {},
   "outputs": [
    {
     "name": "stdout",
     "output_type": "stream",
     "text": [
      "forward fold\n"
     ]
    }
   ],
   "source": [
    "#load model\n",
    "import tensorflow as tf\n",
    "import h5py\n",
    "import numpy as np\n",
    "model = tf.keras.models.load_model('my_model_multiclass9.h5')\n",
    "#model.summary()\n",
    "test_image = tf.keras.preprocessing.image.load_img('32.3partfold.png', target_size = (68, 68))\n",
    "#print(type(image))\n",
    "test_image = tf.keras.preprocessing.image.img_to_array(test_image)\n",
    "#print(test_image)\n",
    "test_image = np.expand_dims(test_image, axis = 0)\n",
    "categories = ['bridge', 'childs', 'downward dog', 'forward fold', 'mountain', 'plank','tree','triangle', 'warrior']\n",
    "print(categories[model.predict_classes(test_image)[0]])"
   ]
  },
  {
   "cell_type": "code",
   "execution_count": 59,
   "metadata": {},
   "outputs": [],
   "source": []
  },
  {
   "cell_type": "code",
   "execution_count": 53,
   "metadata": {},
   "outputs": [],
   "source": []
  },
  {
   "cell_type": "code",
   "execution_count": 56,
   "metadata": {},
   "outputs": [
    {
     "name": "stdout",
     "output_type": "stream",
     "text": [
      "forward fold\n"
     ]
    }
   ],
   "source": []
  },
  {
   "cell_type": "code",
   "execution_count": null,
   "metadata": {},
   "outputs": [],
   "source": []
  }
 ],
 "metadata": {
  "kernelspec": {
   "display_name": "Python 3",
   "language": "python",
   "name": "python3"
  },
  "language_info": {
   "codemirror_mode": {
    "name": "ipython",
    "version": 3
   },
   "file_extension": ".py",
   "mimetype": "text/x-python",
   "name": "python",
   "nbconvert_exporter": "python",
   "pygments_lexer": "ipython3",
   "version": "3.7.5"
  }
 },
 "nbformat": 4,
 "nbformat_minor": 2
}
