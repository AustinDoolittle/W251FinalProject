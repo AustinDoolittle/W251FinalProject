{
 "cells": [
  {
   "cell_type": "code",
   "execution_count": 1,
   "metadata": {},
   "outputs": [],
   "source": [
    "import tensorflow as tf\n",
    "#from keras.models import Sequential\n",
    "#from keras.models import load_model\n",
    "#from keras.layers import Conv2D\n",
    "#from keras.layers import MaxPooling2D\n",
    "#from keras.layers import Flatten\n",
    "#from keras.layers import Dense\n",
    "#from keras.preprocessing.image import ImageDataGenerator\n",
    "from IPython.display import display \n",
    "from PIL import Image\n",
    "import h5py\n"
   ]
  },
  {
   "cell_type": "code",
   "execution_count": 2,
   "metadata": {},
   "outputs": [
    {
     "name": "stdout",
     "output_type": "stream",
     "text": [
      "Found 5007 images belonging to 9 classes.\n",
      "Found 866 images belonging to 9 classes.\n"
     ]
    }
   ],
   "source": [
    "# CNN model \n",
    "classifier = tf.keras.Sequential()\n",
    "\n",
    "classifier.add(tf.keras.layers.Conv2D(36, (3, 3), input_shape = (68, 68, 3), activation = 'relu'))\n",
    "classifier.add(tf.keras.layers.MaxPooling2D(pool_size = (2, 2)))\n",
    "classifier.add(tf.keras.layers.Conv2D(36, (3, 3), activation = 'relu'))\n",
    "classifier.add(tf.keras.layers.MaxPooling2D(pool_size = (2, 2)))\n",
    "classifier.add(tf.keras.layers.Flatten())\n",
    "classifier.add(tf.keras.layers.Dense(units = 126, activation = 'relu'))\n",
    "classifier.add(tf.keras.layers.Dense(units = 9, activation = 'softmax')) # number of classes\n",
    "\n",
    "classifier.compile(optimizer = 'adam', loss = 'categorical_crossentropy', \n",
    "                   metrics = ['accuracy'])\n",
    "\n",
    "# Data Augmentation\n",
    "train_datagen = tf.keras.preprocessing.image.ImageDataGenerator(rescale = 1./255,\n",
    "                                   horizontal_flip = False)\n",
    "\n",
    "test_datagen = tf.keras.preprocessing.image.ImageDataGenerator(rescale = 1./255)\n",
    "\n",
    "training_set = train_datagen.flow_from_directory('output',\n",
    "                                                 target_size = (68, 68),\n",
    "                                                 class_mode = 'categorical')\n",
    "\n",
    "test_set = test_datagen.flow_from_directory('output_1',\n",
    "                                            target_size = (68, 68),\n",
    "                                            class_mode = 'categorical')"
   ]
  },
  {
   "cell_type": "code",
   "execution_count": null,
   "metadata": {},
   "outputs": [
    {
     "name": "stdout",
     "output_type": "stream",
     "text": [
      "Epoch 1/20\n",
      "157/157 [==============================] - 44s 280ms/step - loss: 2.1839 - accuracy: 0.1504 - val_loss: 2.1468 - val_accuracy: 0.1755\n",
      "Epoch 2/20\n",
      "157/157 [==============================] - 42s 264ms/step - loss: 2.0899 - accuracy: 0.2153 - val_loss: 2.0238 - val_accuracy: 0.2471\n",
      "Epoch 3/20\n",
      "157/157 [==============================] - 42s 265ms/step - loss: 1.9629 - accuracy: 0.2832 - val_loss: 1.9938 - val_accuracy: 0.2540\n",
      "Epoch 4/20\n",
      "157/157 [==============================] - 42s 266ms/step - loss: 1.7519 - accuracy: 0.3801 - val_loss: 2.0145 - val_accuracy: 0.2864\n",
      "Epoch 5/20\n",
      "157/157 [==============================] - 42s 266ms/step - loss: 1.4430 - accuracy: 0.5093 - val_loss: 2.0941 - val_accuracy: 0.2818\n",
      "Epoch 6/20\n",
      "157/157 [==============================] - 42s 269ms/step - loss: 1.1047 - accuracy: 0.6315 - val_loss: 2.2792 - val_accuracy: 0.2910\n",
      "Epoch 7/20\n",
      "157/157 [==============================] - 42s 267ms/step - loss: 0.8250 - accuracy: 0.7593 - val_loss: 2.5337 - val_accuracy: 0.2864\n",
      "Epoch 8/20\n",
      "157/157 [==============================] - 42s 265ms/step - loss: 0.6124 - accuracy: 0.8386 - val_loss: 2.8157 - val_accuracy: 0.2760\n",
      "Epoch 9/20\n",
      "157/157 [==============================] - 44s 283ms/step - loss: 0.5224 - accuracy: 0.8642 - val_loss: 2.9426 - val_accuracy: 0.2714\n",
      "Epoch 10/20\n",
      "157/157 [==============================] - 149s 947ms/step - loss: 0.4580 - accuracy: 0.8822 - val_loss: 3.0476 - val_accuracy: 0.2760\n",
      "Epoch 11/20\n",
      "157/157 [==============================] - 148s 941ms/step - loss: 0.4016 - accuracy: 0.8884 - val_loss: 2.9984 - val_accuracy: 0.2956\n",
      "Epoch 12/20\n",
      "157/157 [==============================] - 147s 937ms/step - loss: 0.3831 - accuracy: 0.8892 - val_loss: 2.9305 - val_accuracy: 0.2771\n",
      "Epoch 13/20\n",
      "157/157 [==============================] - 148s 944ms/step - loss: 0.3600 - accuracy: 0.8937 - val_loss: 3.1984 - val_accuracy: 0.2748\n",
      "Epoch 14/20\n",
      "156/157 [============================>.] - ETA: 0s - loss: 0.3426 - accuracy: 0.8921"
     ]
    }
   ],
   "source": [
    "classifier.fit_generator(training_set, validation_data = test_set, epochs = 20) # number of test set images, 229"
   ]
  },
  {
   "cell_type": "code",
   "execution_count": null,
   "metadata": {},
   "outputs": [],
   "source": [
    "classifier.save('my_model_multiclass9.h5') #save model "
   ]
  },
  {
   "cell_type": "code",
   "execution_count": null,
   "metadata": {},
   "outputs": [],
   "source": []
  }
 ],
 "metadata": {
  "kernelspec": {
   "display_name": "Python 3",
   "language": "python",
   "name": "python3"
  },
  "language_info": {
   "codemirror_mode": {
    "name": "ipython",
    "version": 3
   },
   "file_extension": ".py",
   "mimetype": "text/x-python",
   "name": "python",
   "nbconvert_exporter": "python",
   "pygments_lexer": "ipython3",
   "version": "3.7.5"
  }
 },
 "nbformat": 4,
 "nbformat_minor": 2
}
